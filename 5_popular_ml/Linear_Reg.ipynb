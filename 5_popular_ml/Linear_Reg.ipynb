{
 "cells": [
  {
   "cell_type": "code",
   "execution_count": null,
   "metadata": {},
   "outputs": [],
   "source": [
    "# https://towardsai.net/p/l/5-popular-machine-learning-algorithms?utm_source=twitter&utm_medium=social&utm_campaign=rop-content-recycle&fbclid=IwAR2jNSB0RujleGa5xtYIYD2WSHhQ1Jtb5b4Ir1dFfsJKizbbv0jejSXFIeQ"
   ]
  },
  {
   "cell_type": "markdown",
   "metadata": {},
   "source": [
    "# 5 Popular ML Algorithms"
   ]
  },
  {
   "cell_type": "markdown",
   "metadata": {},
   "source": [
    "## Linear Regression"
   ]
  },
  {
   "cell_type": "markdown",
   "metadata": {},
   "source": [
    "#### Problem Formulation\n",
    "---\n",
    "some `dependent` variable 𝑦 on the set of `independent` variables 𝐱 = (𝑥₁, …, 𝑥ᵣ),\n",
    "\n",
    "where 𝑟 is the number of predictors,\n",
    "\n",
    "you assume a linear relationship between 𝑦 and 𝐱: 𝑦 = 𝛽₀ + 𝛽₁𝑥₁ + ⋯ + 𝛽ᵣ𝑥ᵣ + 𝜀. \n",
    "    \n",
    "This equation is the regression equation.\n",
    "\n",
    "𝛽₀, 𝛽₁, …, 𝛽ᵣ are the regression `coefficients`, and 𝜀 is the `random error`. or `intercept`"
   ]
  },
  {
   "cell_type": "markdown",
   "metadata": {},
   "source": [
    "Linear regression calculates the `estimators` of the regression coefficients or simply the `predicted weights`,\n",
    "\n",
    "denoted with 𝑏₀, 𝑏₁, …, 𝑏ᵣ (weight)"
   ]
  },
  {
   "cell_type": "markdown",
   "metadata": {},
   "source": [
    "The differences 𝑦ᵢ - 𝑓(𝐱ᵢ) for all observations 𝑖 = 1, …, 𝑛, are called the `residuals` \n",
    "\n",
    "`Regression is about determining the best predicted weights, that is the weights corresponding to the smallest residuals.`"
   ]
  },
  {
   "cell_type": "markdown",
   "metadata": {},
   "source": [
    "#### To get the best weights\n",
    "---\n",
    "\n",
    "you usually minimize the sum of squared residuals (SSR) \n",
    "\n",
    "for all observations 𝑖 = 1, …, 𝑛: SSR = Σᵢ(𝑦ᵢ - 𝑓(𝐱ᵢ))². \n",
    "    \n",
    "This approach is called the method of ordinary least squares."
   ]
  },
  {
   "cell_type": "markdown",
   "metadata": {},
   "source": [
    "#### Regression Performance \n",
    "---\n",
    "The variation of actual responses 𝑦ᵢ, 𝑖 = 1, …, 𝑛, occurs partly due to the dependence on the predictors 𝐱ᵢ.\n",
    "\n",
    "`However`, there is also an additional inherent variance of the output.\n",
    "\n",
    "The `coefficient of determination`, denoted as 𝑅², \n",
    "tells you which `amount of variation in 𝑦` can be explained by the dependence on 𝐱 using the particular regression model.\n",
    "\n",
    "Larger 𝑅² indicates a better fit and means that the model can better explain the variation of the output with different inputs.\n",
    "\n",
    "The value `𝑅² = 1 corresponds to SSR = 0`, that is to the perfect fit since the values of predicted and actual responses fit completely to each other."
   ]
  },
  {
   "cell_type": "markdown",
   "metadata": {},
   "source": [
    "$R^2 = \\frac{SSE}{SST} = 1 - \\frac{SSR}{SST}$"
   ]
  },
  {
   "cell_type": "markdown",
   "metadata": {},
   "source": [
    "- SST (Total Sum of Squre)\n",
    "\n",
    "SST = $\\sum_{i=1}^n(y_i - \\bar{y})^2$\n",
    "\n",
    "- SSE (Explanined Sum of Squares)\n",
    "\n",
    "SSE = $\\sum_{i=1}^n(\\hat{y_i} - \\bar{y})^2$\n",
    "\n",
    "- SSE (Explanined Sum of Squares)\n",
    "\n",
    "SST = $\\sum_{i=1}^n(y_i - \\hat{y})^2$\n",
    "\n",
    "---\n",
    "$\\bar{y}$ : 추정치의 평균, \n",
    "$\\hat{y}$ : 추정치, \n",
    "y : 관측값\n"
   ]
  },
  {
   "cell_type": "markdown",
   "metadata": {},
   "source": [
    "### Multiple Linear Regression\n"
   ]
  },
  {
   "cell_type": "markdown",
   "metadata": {},
   "source": [
    "- Multiple or multivariate linear regression is a case of linear regression with two or more independent variables.\n",
    "-  The `estimated regression function` is 𝑓(𝑥₁, …, 𝑥ᵣ) = 𝑏₀ + 𝑏₁𝑥₁ + ⋯ +𝑏ᵣ𝑥ᵣ, and there are `𝑟 + 1 weights` to be determined when the number of inputs is 𝑟."
   ]
  },
  {
   "cell_type": "markdown",
   "metadata": {},
   "source": [
    "### Polynomial Regression\n"
   ]
  },
  {
   "cell_type": "markdown",
   "metadata": {},
   "source": [
    "- polynomial regression as a generalized case of linear regression\n",
    "\n",
    "-  `linear terms` like 𝑏₁𝑥₁, your regression function 𝑓 can `include non-linear` terms such as 𝑏₂𝑥₁², 𝑏₃𝑥₁³, or even 𝑏₄𝑥₁𝑥₂, 𝑏₅𝑥₁²𝑥₂, and so on.\n",
    "\n",
    "- you can solve the polynomial regression problem as a linear problem with the term `𝑥²` regarded as an `input variable.`"
   ]
  },
  {
   "cell_type": "markdown",
   "metadata": {},
   "source": [
    "###  Underfitting and Overfitting\n",
    "- implementing polynomial regression is related to the choice of the optimal degree of the polynomial regression function.\n",
    "\n",
    "> Underfitting\n",
    "- low 𝑅² with known data and bad generalization\n",
    "\n",
    "> Overfitting\n",
    "- 𝑅². However, they often don’t generalize well and have significantly lower 𝑅² when used with new data"
   ]
  },
  {
   "cell_type": "markdown",
   "metadata": {},
   "source": [
    "# Python code "
   ]
  },
  {
   "cell_type": "code",
   "execution_count": null,
   "metadata": {},
   "outputs": [],
   "source": [
    "import numpy as np\n",
    "import seaborn as sns\n",
    "from sklearn.linear_model import LinearRegression"
   ]
  },
  {
   "cell_type": "code",
   "execution_count": null,
   "metadata": {},
   "outputs": [],
   "source": [
    "# Load DataSet\n",
    "iris = sns.load_dataset('iris')\n",
    "\n",
    "# Create a model \n",
    "'''\n",
    "Parameters\n",
    "- fit_intercept : (True by default) that decides whether to calculate the intercept 𝑏₀ (True) \n",
    "                   or consider it equal to zero (False).\n",
    "- normalize :  (False by default) that decides whether to normalize the input variables (True) or not (False).\n",
    "- copy_X : (True by default) that decides whether to copy (True) or overwrite the input variables (False).\n",
    "- n_jobs  : parallel computation. None usually means one job and -1 to use all processors.\n",
    "'''\n",
    "\n",
    "model = LinearRegression()"
   ]
  },
  {
   "cell_type": "code",
   "execution_count": null,
   "metadata": {},
   "outputs": [],
   "source": [
    "# Data preprocessing \n",
    "from sklearn.preprocessing import LabelEncoder\n",
    "labeler = LabelEncoder()\n",
    "iris.species = labeler.fit_transform(iris.species)\n",
    "\n",
    "iris.head()"
   ]
  },
  {
   "cell_type": "code",
   "execution_count": null,
   "metadata": {},
   "outputs": [],
   "source": [
    "# y : sepal_length\n",
    "y = iris.iloc[:, 0 ]\n",
    "# x : sepal_width, petal_length, petal_width, species\n",
    "x = iris.iloc[:, 1: ]\n",
    "\n",
    "# make Multiple Linear Regression\n",
    "'''\n",
    ".fit() calc optimal values of the weights using existing data \n",
    "Retrun model itself\n",
    "'''\n",
    "model.fit(x, y)"
   ]
  },
  {
   "cell_type": "code",
   "execution_count": null,
   "metadata": {},
   "outputs": [],
   "source": [
    "# Get Result \n",
    "r_sq = model.score(x, y)\n",
    "print('coefficient of determination:', r_sq)"
   ]
  },
  {
   "cell_type": "code",
   "execution_count": null,
   "metadata": {},
   "outputs": [],
   "source": [
    "print('intercept:', model.intercept_)"
   ]
  },
  {
   "cell_type": "code",
   "execution_count": null,
   "metadata": {},
   "outputs": [],
   "source": [
    "print('slope:', model.coef_)"
   ]
  },
  {
   "cell_type": "code",
   "execution_count": null,
   "metadata": {},
   "outputs": [],
   "source": [
    "# Predict \n",
    "y_pred = model.predict([[4, 3, 2, 0]])\n",
    "print('predicted response:', y_pred, sep='\\n')"
   ]
  },
  {
   "cell_type": "code",
   "execution_count": null,
   "metadata": {},
   "outputs": [],
   "source": [
    "y_pred = model.intercept_ + sum(model.coef_ * [4, 3, 2, 0])\n",
    "print('predicted response:', y_pred, sep='\\n')"
   ]
  },
  {
   "cell_type": "code",
   "execution_count": null,
   "metadata": {},
   "outputs": [],
   "source": [
    "# Polynomial Regression"
   ]
  },
  {
   "cell_type": "code",
   "execution_count": null,
   "metadata": {},
   "outputs": [],
   "source": [
    "import numpy as np\n",
    "from sklearn.linear_model import LinearRegression\n",
    "from sklearn.preprocessing import PolynomialFeatures"
   ]
  },
  {
   "cell_type": "code",
   "execution_count": null,
   "metadata": {},
   "outputs": [],
   "source": [
    "# build model \n",
    "'''\n",
    "degree : (2 by default) that represents the degree of the polynomial regression function.\n",
    "interaction_only: (False by default) that decides whether to include only interaction features (True) or \n",
    "                   all features (False).\n",
    "include_bias :  (True by default) that decides whether to include the bias \n",
    "                (intercept) column of ones (True) or not (False).\n",
    "\n",
    "'''\n",
    "transformer = PolynomialFeatures(degree=2, include_bias=False)\n",
    "transformer.fit(x)\n",
    "x_ = transformer.transform(x)"
   ]
  },
  {
   "cell_type": "code",
   "execution_count": null,
   "metadata": {},
   "outputs": [],
   "source": [
    "x.head(3)"
   ]
  },
  {
   "cell_type": "code",
   "execution_count": null,
   "metadata": {},
   "outputs": [],
   "source": [
    "x_[1]"
   ]
  },
  {
   "cell_type": "code",
   "execution_count": null,
   "metadata": {},
   "outputs": [],
   "source": [
    "model = LinearRegression().fit(x_, y)"
   ]
  },
  {
   "cell_type": "code",
   "execution_count": null,
   "metadata": {},
   "outputs": [],
   "source": [
    "r_sq = model.score(x_, y)\n",
    "print('coefficient of determination:', r_sq)\n",
    "print('intercept:', model.intercept_)\n",
    "print('coefficients:', model.coef_)"
   ]
  },
  {
   "cell_type": "code",
   "execution_count": null,
   "metadata": {},
   "outputs": [],
   "source": [
    "tmp_x = [[4, 3, 2, 0]]\n",
    "tmp_x = transformer.transform(tmp_x)\n",
    "y_pred = model.predict(tmp_x)\n",
    "print('predicted response:', y_pred, sep='\\n')"
   ]
  },
  {
   "cell_type": "markdown",
   "metadata": {},
   "source": [
    "### Advanced Linear Regression "
   ]
  },
  {
   "cell_type": "code",
   "execution_count": null,
   "metadata": {},
   "outputs": [],
   "source": [
    "import numpy as np\n",
    "import statsmodels.api as sm"
   ]
  },
  {
   "cell_type": "code",
   "execution_count": null,
   "metadata": {},
   "outputs": [],
   "source": [
    "print(x.head(3))"
   ]
  },
  {
   "cell_type": "code",
   "execution_count": null,
   "metadata": {},
   "outputs": [],
   "source": [
    "'''\n",
    "You need to add the column of ones to the inputs \n",
    "if you want statsmodels to calculate the intercept 𝑏₀. \n",
    "It doesn’t takes 𝑏₀ into account by default. This is just one function call:\n",
    "'''\n",
    "\n",
    "x = sm.add_constant(x)\n",
    "print(x.head(3))"
   ]
  },
  {
   "cell_type": "code",
   "execution_count": null,
   "metadata": {},
   "outputs": [],
   "source": [
    "# create model\n",
    "model = sm.OLS(y, x) # careful!!!! not x,y y,x!\n",
    "\n",
    "results = model.fit()"
   ]
  },
  {
   "cell_type": "code",
   "execution_count": null,
   "metadata": {},
   "outputs": [],
   "source": [
    "print(results.summary())"
   ]
  },
  {
   "cell_type": "code",
   "execution_count": null,
   "metadata": {},
   "outputs": [],
   "source": [
    "print('coefficient of determination:', results.rsquared, \"\\n\")\n",
    "print('adjusted coefficient of determination:', results.rsquared_adj, \"\\n\")\n",
    "print('regression coefficients:', results.params, \"\\n\")"
   ]
  },
  {
   "cell_type": "code",
   "execution_count": null,
   "metadata": {
    "scrolled": true
   },
   "outputs": [],
   "source": [
    "print('predicted response:', results.predict(x), sep='\\n')\n",
    "# print('predicted response:', results.fittedvalues, sep='\\n')"
   ]
  },
  {
   "cell_type": "markdown",
   "metadata": {},
   "source": [
    "## How to read  OLS Regression Results  "
   ]
  },
  {
   "cell_type": "markdown",
   "metadata": {},
   "source": [
    "- OLS : Ordinary Least Squares (== least squares approximation, 최소 자승법)\n",
    "- No. Observations: Number of observations (총 표본 수)\n",
    "- Df Residuals:  DF(Degree of Freedom) 전체 표본 수에서 측정되는 변수들(종속변수 및 독립변수)의 개수를 빼서 구함\n",
    "- Df Model: 독립변수의 개수이다\n",
    "- R squared: R의 제곱이라는 뜻이고 결정계수를 의미 (해당 회귀모델이 설명할 수 있는 데이터의 비율, 회귀식의 설명력)\n",
    "- F-statistics: F통계량을 뜻한다. F통계량은 MSR/MSE로 구할 수 있다\n",
    "- Prob: F통계량에 해당하는 P-value를 의미\n",
    "- coef:  coefficient는 회귀식의 절편 값\n",
    "- Standard Error : standard deviation of an estimated coefficient\n",
    "    - The smaller the SE, the more precise is our estimate of the coefficient\n",
    "- t-Statistic : ratio of the estimated coefficient to its standard error\n",
    "- p-Values and Significance Tests :\n",
    "    -  우리가 얻은 검정 통계량보다 크거나 같은 값을 얻을 수 있을 확률"
   ]
  },
  {
   "cell_type": "code",
   "execution_count": null,
   "metadata": {
    "scrolled": true
   },
   "outputs": [],
   "source": [
    "print(results.summary())"
   ]
  },
  {
   "cell_type": "markdown",
   "metadata": {},
   "source": [
    "# scratch to perfect"
   ]
  },
  {
   "cell_type": "markdown",
   "metadata": {},
   "source": [
    "### making multiple linear regression \n",
    "- linear regression need this \n",
    "- Linear Assumption \n",
    "- NO noise\n",
    "- NO Collinearity : overfit when data have highly correlatied input variables\n",
    "- Normal Distribution : more reliable predictions \n",
    "- Rescaled Inputs"
   ]
  },
  {
   "cell_type": "markdown",
   "metadata": {},
   "source": [
    "- multipl;e linear regression model calculating best coefficients for line equation formula\n",
    "- best coefficients can calculated through iterative optimization process : gradient descent"
   ]
  },
  {
   "cell_type": "markdown",
   "metadata": {},
   "source": [
    "> gradient Descent \n",
    "\n",
    "- algorithm calculates the derivates with respect to each coefficient and updates them on each iteration. \n",
    "\n",
    "- How much of an update there will be depends on one parameter — learning rate. \n",
    "\n",
    "- A high learning rate can lead to “missing” the best parameter values, and a low learning rate can lead to slow optimization."
   ]
  },
  {
   "cell_type": "code",
   "execution_count": null,
   "metadata": {},
   "outputs": [],
   "source": [
    "from IPython.display import Image \n",
    "Image(\"img/gradient_prob.jpeg\")"
   ]
  },
  {
   "cell_type": "markdown",
   "metadata": {},
   "source": [
    "## Code build start "
   ]
  },
  {
   "cell_type": "markdown",
   "metadata": {},
   "source": [
    "https://towardsdatascience.com/master-machine-learning-multiple-linear-regression-from-scratch-with-python-ac716a9b78a4"
   ]
  },
  {
   "cell_type": "code",
   "execution_count": null,
   "metadata": {},
   "outputs": [],
   "source": [
    "import numpy as np \n",
    "import matplotlib.pyplot as plt\n",
    "from matplotlib import rcParams\n",
    "rcParams['figure.figsize'] = (14, 7)\n",
    "rcParams['axes.spines.top'] = False\n",
    "rcParams['axes.spines.right'] = False"
   ]
  },
  {
   "cell_type": "markdown",
   "metadata": {},
   "source": [
    "# 선수 지식\n",
    "    @staticmethod\n",
    "    '''\n",
    "    정적 메서드 지원 @staticmethod, @classmethod\n",
    "    instance를 만들지 않아도 class 메서드를 실행 가능\n",
    "    instance : 클래스에 의해 만들어진 객체!\n",
    "    ''' "
   ]
  },
  {
   "cell_type": "code",
   "execution_count": null,
   "metadata": {},
   "outputs": [],
   "source": [
    "#staticmethod\n",
    "class hello:\n",
    "    num = 10\n",
    "\n",
    "    @staticmethod\n",
    "    def calc(x):\n",
    "        return x + 10\n",
    "\n",
    "print(hello.calc(10))"
   ]
  },
  {
   "cell_type": "code",
   "execution_count": null,
   "metadata": {},
   "outputs": [],
   "source": [
    "#classmethod\n",
    "class hello:\n",
    "    num = 10\n",
    "\n",
    "    @classmethod\n",
    "    def calc(cls, x):\n",
    "        return x + 10\n",
    "\n",
    "print(hello.calc(10))"
   ]
  },
  {
   "cell_type": "markdown",
   "metadata": {},
   "source": [
    "- 차이가 무엇일까 ?\n",
    "- 둘 다 객체를 만들지 않고 바로 해당 메서드를 사용했다. \n",
    "- classmethod는 calc 메서드를 만들때 cls 인자가 하나 추가됨 "
   ]
  },
  {
   "cell_type": "code",
   "execution_count": null,
   "metadata": {},
   "outputs": [],
   "source": [
    "## hello class에서 num 속성 접근하는 방법\n",
    "# 객체로 접근하는것이 아니기에 self.num 사용 불가하다\n",
    "#staticmethod\n",
    "class hello:\n",
    "    num = 10\n",
    "\n",
    "    @staticmethod\n",
    "    def calc(x):\n",
    "        return x + 10 + hello.num\n",
    "\n",
    "print(hello.calc(10))\n",
    "# 정적 변수로 접근해야함.. "
   ]
  },
  {
   "cell_type": "code",
   "execution_count": null,
   "metadata": {},
   "outputs": [],
   "source": [
    "#classmethod\n",
    "class hello:\n",
    "    num = 10\n",
    "\n",
    "    @classmethod\n",
    "    def calc(cls, x):\n",
    "        return x + 10 + cls.num\n",
    "\n",
    "print(hello.calc(10))\n",
    "# cls 는 클래스를 가리킴, 클래스의 어떤 속성에도 접근 가능 하다 "
   ]
  },
  {
   "cell_type": "code",
   "execution_count": null,
   "metadata": {},
   "outputs": [],
   "source": [
    "class hello:\n",
    "    t = '내가 상속해 줬어'\n",
    "\n",
    "    @classmethod\n",
    "    def calc(cls):\n",
    "        return cls.t\n",
    "\n",
    "class hello_2(hello):\n",
    "    t = '나는 상속 받았어'\n",
    "\n",
    "print(hello_2.calc())"
   ]
  },
  {
   "cell_type": "markdown",
   "metadata": {},
   "source": [
    "- 그렇다고 @staticmethod는 필요 없는 것은 아니다. 사람마다 다르겠지만 유틸리티 성격에 맞게 사용할 수 있을 것이다.\n",
    "\n",
    "- 그리고 @classmethod는 클래스의 어떤 옵션을 바꾸는 용도로 사용할 수 있다."
   ]
  },
  {
   "cell_type": "code",
   "execution_count": 7,
   "metadata": {
    "scrolled": true
   },
   "outputs": [
    {
     "name": "stdout",
     "output_type": "stream",
     "text": [
      "Overwriting linear.py\n"
     ]
    }
   ],
   "source": [
    "%%writefile linear.py\n",
    "class LinearRegression:\n",
    "    \n",
    "    '''\n",
    "    class implements linear regression model with gradient descent\n",
    "    '''\n",
    "    \n",
    "    def __init__(self, learning_rate=0.01, n_iterations=100000):\n",
    "        self.learning_rate = learning_rate\n",
    "        self.n_iterations = n_iterations\n",
    "        self.weights, self.bias = None, None\n",
    "        self.loss = []\n",
    "        \n",
    "    @staticmethod\n",
    "    def _mean_squared_error(y, y_hat):\n",
    "        '''\n",
    "        Private method, used to evaluate loss at each iteration.\n",
    "        \n",
    "        :param: y - array, true values\n",
    "        :param: y_hat - array, predicted values\n",
    "        :return: float\n",
    "        '''\n",
    "        error = 0\n",
    "        for i in range(len(y)):\n",
    "            error += (y[i] - y_hat[i]) ** 2\n",
    "        return error / len(y)\n",
    "    \n",
    "    def fit(self, X, y):\n",
    "        import numpy as np \n",
    "        '''\n",
    "        Used to calculate the coefficient of the linear regression model.\n",
    "        \n",
    "        :param X: array, features\n",
    "        :param y: array, true values\n",
    "        :return: None\n",
    "        '''\n",
    "        # 1. Initialize weights and bias to zeros\n",
    "        self.weights = np.zeros(X.shape[1])\n",
    "        self.bias = 0\n",
    "        \n",
    "        # 2. Perform gradient descent\n",
    "        for i in range(self.n_iterations):\n",
    "            # Line equation\n",
    "            y_hat = np.dot(X, self.weights) + self.bias\n",
    "            loss = self._mean_squared_error(y, y_hat)\n",
    "            self.loss.append(loss)\n",
    "            \n",
    "            # Calculate derivatives\n",
    "            partial_w = (1 / X.shape[0]) * (2 * np.dot(X.T, (y_hat - y)))\n",
    "            partial_d = (1 / X.shape[0]) * (2 * np.sum(y_hat - y))\n",
    "            \n",
    "            # Update the coefficients\n",
    "            self.weights -= self.learning_rate * partial_w\n",
    "            self.bias -= self.learning_rate * partial_d\n",
    "        \n",
    "        \n",
    "    def predict(self, X):\n",
    "        import numpy as np \n",
    "        '''\n",
    "        Makes predictions using the line equation.\n",
    "        \n",
    "        :param X: array, features\n",
    "        :return: array, predictions\n",
    "        '''\n",
    "        return np.dot(X, self.weights) + self.bias"
   ]
  },
  {
   "cell_type": "code",
   "execution_count": 1,
   "metadata": {},
   "outputs": [],
   "source": [
    "from sklearn.datasets import load_diabetes\n",
    "\n",
    "data = load_diabetes()\n",
    "X = data.data\n",
    "y = data.target"
   ]
  },
  {
   "cell_type": "code",
   "execution_count": 2,
   "metadata": {},
   "outputs": [],
   "source": [
    "from linear import LinearRegression"
   ]
  },
  {
   "cell_type": "code",
   "execution_count": 3,
   "metadata": {},
   "outputs": [],
   "source": [
    "import numpy as np"
   ]
  },
  {
   "cell_type": "code",
   "execution_count": 4,
   "metadata": {
    "scrolled": true
   },
   "outputs": [],
   "source": [
    "from sklearn.model_selection import train_test_split\n",
    "\n",
    "X_train, X_test, y_train, y_test = train_test_split(X, y, test_size=0.2, random_state=42)\n",
    "\n",
    "model = LinearRegression()\n",
    "model.fit(X_train, y_train)\n",
    "preds = model.predict(X_test)"
   ]
  },
  {
   "cell_type": "code",
   "execution_count": 6,
   "metadata": {},
   "outputs": [],
   "source": [
    "import matplotlib.pylab as plt"
   ]
  },
  {
   "cell_type": "code",
   "execution_count": 7,
   "metadata": {},
   "outputs": [
    {
     "data": {
      "image/png": "[encoded data removed]",
      "text/plain": [
       "<Figure size 432x288 with 1 Axes>"
      ]
     },
     "metadata": {
      "needs_background": "light"
     },
     "output_type": "display_data"
    }
   ],
   "source": [
    "xs = np.arange(len(model.loss))\n",
    "ys = model.loss\n",
    "\n",
    "plt.plot(xs, ys, lw=3, c='#087E8B')\n",
    "plt.title('Loss per iteration (MSE)', size=20)\n",
    "plt.xlabel('Iteration', size=14)\n",
    "plt.ylabel('Loss', size=14)\n",
    "plt.show()"
   ]
  },
  {
   "cell_type": "code",
   "execution_count": 9,
   "metadata": {},
   "outputs": [
    {
     "data": {
      "image/png": "[encoded data removed]",
      "text/plain": [
       "<Figure size 432x288 with 1 Axes>"
      ]
     },
     "metadata": {
      "needs_background": "light"
     },
     "output_type": "display_data"
    }
   ],
   "source": [
    "losses = {}\n",
    "for lr in [0.5, 0.1, 0.01, 0.001]:\n",
    "    model = LinearRegression(learning_rate=lr)\n",
    "    model.fit(X_train, y_train)\n",
    "    losses[f'LR={str(lr)}'] = model.loss\n",
    "    \n",
    "    \n",
    "xs = np.arange(len(model.loss))\n",
    "\n",
    "plt.plot(xs, losses['LR=0.5'], lw=3, label=f\"LR = 0.5, Final = {losses['LR=0.5'][-1]:.2f}\")\n",
    "plt.plot(xs, losses['LR=0.1'], lw=3, label=f\"LR = 0.1, Final = {losses['LR=0.1'][-1]:.2f}\")\n",
    "plt.plot(xs, losses['LR=0.01'], lw=3, label=f\"LR = 0.01, Final = {losses['LR=0.01'][-1]:.2f}\")\n",
    "plt.plot(xs, losses['LR=0.001'], lw=3, label=f\"LR = 0.001, Final = {losses['LR=0.001'][-1]:.2f}\")\n",
    "plt.title('Loss per iteration (MSE) for different learning rates', size=20)\n",
    "plt.xlabel('Iteration', size=14)\n",
    "plt.ylabel('Loss', size=14)\n",
    "plt.legend()\n",
    "plt.show()"
   ]
  },
  {
   "cell_type": "markdown",
   "metadata": {},
   "source": [
    "### remember that you want to calculate 𝑏₀, 𝑏₁, and 𝑏₂, which minimize SSR. These are your unknowns!"
   ]
  },
  {
   "cell_type": "code",
   "execution_count": 10,
   "metadata": {},
   "outputs": [],
   "source": [
    "# OLS, Tvalue, deeplearning 버전\n",
    "\n",
    "# 규제 randomforest regression, decitions tree regression"
   ]
  },
  {
   "cell_type": "markdown",
   "metadata": {},
   "source": [
    "## Logistic Regression"
   ]
  },
  {
   "cell_type": "markdown",
   "metadata": {},
   "source": [
    "## Decision Tree"
   ]
  },
  {
   "cell_type": "markdown",
   "metadata": {},
   "source": [
    "## Navie Bayes Algorithms"
   ]
  },
  {
   "cell_type": "markdown",
   "metadata": {},
   "source": [
    "## Artificial Neural Network Algorithms"
   ]
  },
  {
   "cell_type": "code",
   "execution_count": null,
   "metadata": {},
   "outputs": [],
   "source": []
  },
  {
   "cell_type": "code",
   "execution_count": null,
   "metadata": {},
   "outputs": [],
   "source": []
  }
 ],
 "metadata": {
  "kernelspec": {
   "display_name": "Python 3",
   "language": "python",
   "name": "python3"
  },
  "language_info": {
   "codemirror_mode": {
    "name": "ipython",
    "version": 3
   },
   "file_extension": ".py",
   "mimetype": "text/x-python",
   "name": "python",
   "nbconvert_exporter": "python",
   "pygments_lexer": "ipython3",
   "version": "3.8.3"
  }
 },
 "nbformat": 4,
 "nbformat_minor": 4
}
