{
 "cells": [
  {
   "cell_type": "code",
   "execution_count": 1,
   "metadata": {},
   "outputs": [],
   "source": [
    "# https://towardsai.net/p/l/5-popular-machine-learning-algorithms?utm_source=twitter&utm_medium=social&utm_campaign=rop-content-recycle&fbclid=IwAR2jNSB0RujleGa5xtYIYD2WSHhQ1Jtb5b4Ir1dFfsJKizbbv0jejSXFIeQ"
   ]
  },
  {
   "cell_type": "markdown",
   "metadata": {},
   "source": [
    "# 5 Popular ML Algorithms"
   ]
  },
  {
   "cell_type": "markdown",
   "metadata": {},
   "source": [
    "## Linear Regression"
   ]
  },
  {
   "cell_type": "markdown",
   "metadata": {},
   "source": [
    "#### Problem Formulation\n",
    "---\n",
    "some `dependent` variable 𝑦 on the set of `independent` variables 𝐱 = (𝑥₁, …, 𝑥ᵣ),\n",
    "\n",
    "where 𝑟 is the number of predictors,\n",
    "\n",
    "you assume a linear relationship between 𝑦 and 𝐱: 𝑦 = 𝛽₀ + 𝛽₁𝑥₁ + ⋯ + 𝛽ᵣ𝑥ᵣ + 𝜀. \n",
    "    \n",
    "This equation is the regression equation.\n",
    "\n",
    "𝛽₀, 𝛽₁, …, 𝛽ᵣ are the regression `coefficients`, and 𝜀 is the `random error`. or `intercept`"
   ]
  },
  {
   "cell_type": "markdown",
   "metadata": {},
   "source": [
    "Linear regression calculates the `estimators` of the regression coefficients or simply the `predicted weights`,\n",
    "\n",
    "denoted with 𝑏₀, 𝑏₁, …, 𝑏ᵣ (weight)"
   ]
  },
  {
   "cell_type": "markdown",
   "metadata": {},
   "source": [
    "The differences 𝑦ᵢ - 𝑓(𝐱ᵢ) for all observations 𝑖 = 1, …, 𝑛, are called the `residuals` \n",
    "\n",
    "`Regression is about determining the best predicted weights, that is the weights corresponding to the smallest residuals.`"
   ]
  },
  {
   "cell_type": "markdown",
   "metadata": {},
   "source": [
    "#### To get the best weights\n",
    "---\n",
    "\n",
    "you usually minimize the sum of squared residuals (SSR) \n",
    "\n",
    "for all observations 𝑖 = 1, …, 𝑛: SSR = Σᵢ(𝑦ᵢ - 𝑓(𝐱ᵢ))². \n",
    "    \n",
    "This approach is called the method of ordinary least squares."
   ]
  },
  {
   "cell_type": "markdown",
   "metadata": {},
   "source": [
    "#### Regression Performance \n",
    "---\n",
    "The variation of actual responses 𝑦ᵢ, 𝑖 = 1, …, 𝑛, occurs partly due to the dependence on the predictors 𝐱ᵢ.\n",
    "\n",
    "`However`, there is also an additional inherent variance of the output.\n",
    "\n",
    "The `coefficient of determination`, denoted as 𝑅², \n",
    "tells you which `amount of variation in 𝑦` can be explained by the dependence on 𝐱 using the particular regression model.\n",
    "\n",
    "Larger 𝑅² indicates a better fit and means that the model can better explain the variation of the output with different inputs.\n",
    "\n",
    "The value `𝑅² = 1 corresponds to SSR = 0`, that is to the perfect fit since the values of predicted and actual responses fit completely to each other."
   ]
  },
  {
   "cell_type": "markdown",
   "metadata": {},
   "source": [
    "$R^2 = \\frac{SSE}{SST} = 1 - \\frac{SSR}{SST}$"
   ]
  },
  {
   "cell_type": "markdown",
   "metadata": {},
   "source": [
    "- SST (Total Sum of Squre)\n",
    "\n",
    "SST = $\\sum_{i=1}^n(y_i - \\bar{y})^2$\n",
    "\n",
    "- SSE (Explanined Sum of Squares)\n",
    "\n",
    "SSE = $\\sum_{i=1}^n(\\hat{y_i} - \\bar{y})^2$\n",
    "\n",
    "- SSE (Explanined Sum of Squares)\n",
    "\n",
    "SST = $\\sum_{i=1}^n(y_i - \\hat{y})^2$\n",
    "\n",
    "---\n",
    "$\\bar{y}$ : 추정치의 평균, \n",
    "$\\hat{y}$ : 추정치, \n",
    "y : 관측값\n"
   ]
  },
  {
   "cell_type": "markdown",
   "metadata": {},
   "source": [
    "### Multiple Linear Regression\n"
   ]
  },
  {
   "cell_type": "markdown",
   "metadata": {},
   "source": [
    "- Multiple or multivariate linear regression is a case of linear regression with two or more independent variables.\n",
    "-  The `estimated regression function` is 𝑓(𝑥₁, …, 𝑥ᵣ) = 𝑏₀ + 𝑏₁𝑥₁ + ⋯ +𝑏ᵣ𝑥ᵣ, and there are `𝑟 + 1 weights` to be determined when the number of inputs is 𝑟."
   ]
  },
  {
   "cell_type": "markdown",
   "metadata": {},
   "source": [
    "### Polynomial Regression\n"
   ]
  },
  {
   "cell_type": "markdown",
   "metadata": {},
   "source": [
    "- polynomial regression as a generalized case of linear regression\n",
    "\n",
    "-  `linear terms` like 𝑏₁𝑥₁, your regression function 𝑓 can `include non-linear` terms such as 𝑏₂𝑥₁², 𝑏₃𝑥₁³, or even 𝑏₄𝑥₁𝑥₂, 𝑏₅𝑥₁²𝑥₂, and so on.\n",
    "\n",
    "- you can solve the polynomial regression problem as a linear problem with the term `𝑥²` regarded as an `input variable.`"
   ]
  },
  {
   "cell_type": "markdown",
   "metadata": {},
   "source": [
    "###  Underfitting and Overfitting\n",
    "- implementing polynomial regression is related to the choice of the optimal degree of the polynomial regression function.\n",
    "\n",
    "> Underfitting\n",
    "- low 𝑅² with known data and bad generalization\n",
    "\n",
    "> Overfitting\n",
    "- 𝑅². However, they often don’t generalize well and have significantly lower 𝑅² when used with new data"
   ]
  },
  {
   "cell_type": "markdown",
   "metadata": {},
   "source": [
    "# Python code "
   ]
  },
  {
   "cell_type": "code",
   "execution_count": 87,
   "metadata": {},
   "outputs": [],
   "source": [
    "import numpy as np\n",
    "import seaborn as sns\n",
    "from sklearn.linear_model import LinearRegression"
   ]
  },
  {
   "cell_type": "code",
   "execution_count": 88,
   "metadata": {},
   "outputs": [],
   "source": [
    "# Load DataSet\n",
    "iris = sns.load_dataset('iris')\n",
    "\n",
    "# Create a model \n",
    "'''\n",
    "Parameters\n",
    "- fit_intercept : (True by default) that decides whether to calculate the intercept 𝑏₀ (True) \n",
    "                   or consider it equal to zero (False).\n",
    "- normalize :  (False by default) that decides whether to normalize the input variables (True) or not (False).\n",
    "- copy_X : (True by default) that decides whether to copy (True) or overwrite the input variables (False).\n",
    "- n_jobs  : parallel computation. None usually means one job and -1 to use all processors.\n",
    "'''\n",
    "\n",
    "model = LinearRegression()"
   ]
  },
  {
   "cell_type": "code",
   "execution_count": 89,
   "metadata": {},
   "outputs": [
    {
     "data": {
      "text/html": [
       "<div>\n",
       "<style scoped>\n",
       "    .dataframe tbody tr th:only-of-type {\n",
       "        vertical-align: middle;\n",
       "    }\n",
       "\n",
       "    .dataframe tbody tr th {\n",
       "        vertical-align: top;\n",
       "    }\n",
       "\n",
       "    .dataframe thead th {\n",
       "        text-align: right;\n",
       "    }\n",
       "</style>\n",
       "<table border=\"1\" class=\"dataframe\">\n",
       "  <thead>\n",
       "    <tr style=\"text-align: right;\">\n",
       "      <th></th>\n",
       "      <th>sepal_length</th>\n",
       "      <th>sepal_width</th>\n",
       "      <th>petal_length</th>\n",
       "      <th>petal_width</th>\n",
       "      <th>species</th>\n",
       "    </tr>\n",
       "  </thead>\n",
       "  <tbody>\n",
       "    <tr>\n",
       "      <th>0</th>\n",
       "      <td>5.1</td>\n",
       "      <td>3.5</td>\n",
       "      <td>1.4</td>\n",
       "      <td>0.2</td>\n",
       "      <td>0</td>\n",
       "    </tr>\n",
       "    <tr>\n",
       "      <th>1</th>\n",
       "      <td>4.9</td>\n",
       "      <td>3.0</td>\n",
       "      <td>1.4</td>\n",
       "      <td>0.2</td>\n",
       "      <td>0</td>\n",
       "    </tr>\n",
       "    <tr>\n",
       "      <th>2</th>\n",
       "      <td>4.7</td>\n",
       "      <td>3.2</td>\n",
       "      <td>1.3</td>\n",
       "      <td>0.2</td>\n",
       "      <td>0</td>\n",
       "    </tr>\n",
       "    <tr>\n",
       "      <th>3</th>\n",
       "      <td>4.6</td>\n",
       "      <td>3.1</td>\n",
       "      <td>1.5</td>\n",
       "      <td>0.2</td>\n",
       "      <td>0</td>\n",
       "    </tr>\n",
       "    <tr>\n",
       "      <th>4</th>\n",
       "      <td>5.0</td>\n",
       "      <td>3.6</td>\n",
       "      <td>1.4</td>\n",
       "      <td>0.2</td>\n",
       "      <td>0</td>\n",
       "    </tr>\n",
       "  </tbody>\n",
       "</table>\n",
       "</div>"
      ],
      "text/plain": [
       "   sepal_length  sepal_width  petal_length  petal_width  species\n",
       "0           5.1          3.5           1.4          0.2        0\n",
       "1           4.9          3.0           1.4          0.2        0\n",
       "2           4.7          3.2           1.3          0.2        0\n",
       "3           4.6          3.1           1.5          0.2        0\n",
       "4           5.0          3.6           1.4          0.2        0"
      ]
     },
     "execution_count": 89,
     "metadata": {},
     "output_type": "execute_result"
    }
   ],
   "source": [
    "# Data preprocessing \n",
    "from sklearn.preprocessing import LabelEncoder\n",
    "labeler = LabelEncoder()\n",
    "iris.species = labeler.fit_transform(iris.species)\n",
    "\n",
    "iris.head()"
   ]
  },
  {
   "cell_type": "code",
   "execution_count": 90,
   "metadata": {},
   "outputs": [
    {
     "data": {
      "text/plain": [
       "LinearRegression()"
      ]
     },
     "execution_count": 90,
     "metadata": {},
     "output_type": "execute_result"
    }
   ],
   "source": [
    "# y : sepal_length\n",
    "y = iris.iloc[:, 0 ]\n",
    "# x : sepal_width, petal_length, petal_width, species\n",
    "x = iris.iloc[:, 1: ]\n",
    "\n",
    "# make Multiple Linear Regression\n",
    "'''\n",
    ".fit() calc optimal values of the weights using existing data \n",
    "Retrun model itself\n",
    "'''\n",
    "model.fit(x, y)"
   ]
  },
  {
   "cell_type": "code",
   "execution_count": 91,
   "metadata": {},
   "outputs": [
    {
     "name": "stdout",
     "output_type": "stream",
     "text": [
      "coefficient of determination: 0.8621931701975809\n"
     ]
    }
   ],
   "source": [
    "# Get Result \n",
    "r_sq = model.score(x, y)\n",
    "print('coefficient of determination:', r_sq)"
   ]
  },
  {
   "cell_type": "code",
   "execution_count": 92,
   "metadata": {},
   "outputs": [
    {
     "name": "stdout",
     "output_type": "stream",
     "text": [
      "intercept: 1.8511983449847396\n"
     ]
    }
   ],
   "source": [
    "print('intercept:', model.intercept_)"
   ]
  },
  {
   "cell_type": "code",
   "execution_count": 93,
   "metadata": {},
   "outputs": [
    {
     "name": "stdout",
     "output_type": "stream",
     "text": [
      "slope: [ 0.62527882  0.74292448 -0.40447855 -0.22635635]\n"
     ]
    }
   ],
   "source": [
    "print('slope:', model.coef_)"
   ]
  },
  {
   "cell_type": "code",
   "execution_count": 94,
   "metadata": {},
   "outputs": [
    {
     "name": "stdout",
     "output_type": "stream",
     "text": [
      "predicted response:\n",
      "[5.77212994]\n"
     ]
    }
   ],
   "source": [
    "# Predict \n",
    "y_pred = model.predict([[4, 3, 2, 0]])\n",
    "print('predicted response:', y_pred, sep='\\n')"
   ]
  },
  {
   "cell_type": "code",
   "execution_count": 95,
   "metadata": {},
   "outputs": [
    {
     "name": "stdout",
     "output_type": "stream",
     "text": [
      "predicted response:\n",
      "5.772129944632768\n"
     ]
    }
   ],
   "source": [
    "y_pred = model.intercept_ + sum(model.coef_ * [4, 3, 2, 0])\n",
    "print('predicted response:', y_pred, sep='\\n')"
   ]
  },
  {
   "cell_type": "code",
   "execution_count": 96,
   "metadata": {},
   "outputs": [],
   "source": [
    "# Polynomial Regression"
   ]
  },
  {
   "cell_type": "code",
   "execution_count": 97,
   "metadata": {},
   "outputs": [],
   "source": [
    "import numpy as np\n",
    "from sklearn.linear_model import LinearRegression\n",
    "from sklearn.preprocessing import PolynomialFeatures"
   ]
  },
  {
   "cell_type": "code",
   "execution_count": 98,
   "metadata": {},
   "outputs": [],
   "source": [
    "# build model \n",
    "'''\n",
    "degree : (2 by default) that represents the degree of the polynomial regression function.\n",
    "interaction_only: (False by default) that decides whether to include only interaction features (True) or \n",
    "                   all features (False).\n",
    "include_bias :  (True by default) that decides whether to include the bias \n",
    "                (intercept) column of ones (True) or not (False).\n",
    "\n",
    "'''\n",
    "transformer = PolynomialFeatures(degree=2, include_bias=False)\n",
    "transformer.fit(x)\n",
    "x_ = transformer.transform(x)"
   ]
  },
  {
   "cell_type": "code",
   "execution_count": 99,
   "metadata": {},
   "outputs": [
    {
     "data": {
      "text/html": [
       "<div>\n",
       "<style scoped>\n",
       "    .dataframe tbody tr th:only-of-type {\n",
       "        vertical-align: middle;\n",
       "    }\n",
       "\n",
       "    .dataframe tbody tr th {\n",
       "        vertical-align: top;\n",
       "    }\n",
       "\n",
       "    .dataframe thead th {\n",
       "        text-align: right;\n",
       "    }\n",
       "</style>\n",
       "<table border=\"1\" class=\"dataframe\">\n",
       "  <thead>\n",
       "    <tr style=\"text-align: right;\">\n",
       "      <th></th>\n",
       "      <th>sepal_width</th>\n",
       "      <th>petal_length</th>\n",
       "      <th>petal_width</th>\n",
       "      <th>species</th>\n",
       "    </tr>\n",
       "  </thead>\n",
       "  <tbody>\n",
       "    <tr>\n",
       "      <th>0</th>\n",
       "      <td>3.5</td>\n",
       "      <td>1.4</td>\n",
       "      <td>0.2</td>\n",
       "      <td>0</td>\n",
       "    </tr>\n",
       "    <tr>\n",
       "      <th>1</th>\n",
       "      <td>3.0</td>\n",
       "      <td>1.4</td>\n",
       "      <td>0.2</td>\n",
       "      <td>0</td>\n",
       "    </tr>\n",
       "    <tr>\n",
       "      <th>2</th>\n",
       "      <td>3.2</td>\n",
       "      <td>1.3</td>\n",
       "      <td>0.2</td>\n",
       "      <td>0</td>\n",
       "    </tr>\n",
       "  </tbody>\n",
       "</table>\n",
       "</div>"
      ],
      "text/plain": [
       "   sepal_width  petal_length  petal_width  species\n",
       "0          3.5           1.4          0.2        0\n",
       "1          3.0           1.4          0.2        0\n",
       "2          3.2           1.3          0.2        0"
      ]
     },
     "execution_count": 99,
     "metadata": {},
     "output_type": "execute_result"
    }
   ],
   "source": [
    "x.head(3)"
   ]
  },
  {
   "cell_type": "code",
   "execution_count": 100,
   "metadata": {},
   "outputs": [
    {
     "data": {
      "text/plain": [
       "array([3.  , 1.4 , 0.2 , 0.  , 9.  , 4.2 , 0.6 , 0.  , 1.96, 0.28, 0.  ,\n",
       "       0.04, 0.  , 0.  ])"
      ]
     },
     "execution_count": 100,
     "metadata": {},
     "output_type": "execute_result"
    }
   ],
   "source": [
    "x_[1]"
   ]
  },
  {
   "cell_type": "code",
   "execution_count": 101,
   "metadata": {},
   "outputs": [],
   "source": [
    "model = LinearRegression().fit(x_, y)"
   ]
  },
  {
   "cell_type": "code",
   "execution_count": 102,
   "metadata": {},
   "outputs": [
    {
     "name": "stdout",
     "output_type": "stream",
     "text": [
      "coefficient of determination: 0.8839311018040977\n",
      "intercept: 2.4518715427668445\n",
      "coefficients: [ 0.23631182  0.86046204  0.80525197 -1.91538668  0.10697611 -0.22558741\n",
      "  0.06213234  0.34847336  0.10858724 -0.22423945 -0.02653654 -0.80270774\n",
      "  1.63174094 -0.65514036]\n"
     ]
    }
   ],
   "source": [
    "r_sq = model.score(x_, y)\n",
    "print('coefficient of determination:', r_sq)\n",
    "print('intercept:', model.intercept_)\n",
    "print('coefficients:', model.coef_)"
   ]
  },
  {
   "cell_type": "code",
   "execution_count": 103,
   "metadata": {},
   "outputs": [
    {
     "name": "stdout",
     "output_type": "stream",
     "text": [
      "predicted response:\n",
      "[3.51165394]\n"
     ]
    }
   ],
   "source": [
    "tmp_x = [[4, 3, 2, 0]]\n",
    "tmp_x = transformer.transform(tmp_x)\n",
    "y_pred = model.predict(tmp_x)\n",
    "print('predicted response:', y_pred, sep='\\n')"
   ]
  },
  {
   "cell_type": "markdown",
   "metadata": {},
   "source": [
    "### Advanced Linear Regression "
   ]
  },
  {
   "cell_type": "code",
   "execution_count": 104,
   "metadata": {},
   "outputs": [],
   "source": [
    "import numpy as np\n",
    "import statsmodels.api as sm"
   ]
  },
  {
   "cell_type": "code",
   "execution_count": 105,
   "metadata": {},
   "outputs": [
    {
     "name": "stdout",
     "output_type": "stream",
     "text": [
      "   sepal_width  petal_length  petal_width  species\n",
      "0          3.5           1.4          0.2        0\n",
      "1          3.0           1.4          0.2        0\n",
      "2          3.2           1.3          0.2        0\n"
     ]
    }
   ],
   "source": [
    "print(x.head(3))"
   ]
  },
  {
   "cell_type": "code",
   "execution_count": 106,
   "metadata": {},
   "outputs": [
    {
     "name": "stdout",
     "output_type": "stream",
     "text": [
      "   const  sepal_width  petal_length  petal_width  species\n",
      "0    1.0          3.5           1.4          0.2        0\n",
      "1    1.0          3.0           1.4          0.2        0\n",
      "2    1.0          3.2           1.3          0.2        0\n"
     ]
    }
   ],
   "source": [
    "'''\n",
    "You need to add the column of ones to the inputs \n",
    "if you want statsmodels to calculate the intercept 𝑏₀. \n",
    "It doesn’t takes 𝑏₀ into account by default. This is just one function call:\n",
    "'''\n",
    "\n",
    "x = sm.add_constant(x)\n",
    "print(x.head(3))"
   ]
  },
  {
   "cell_type": "code",
   "execution_count": 107,
   "metadata": {},
   "outputs": [],
   "source": [
    "# create model\n",
    "model = sm.OLS(y, x) # careful!!!! not x,y y,x!\n",
    "\n",
    "results = model.fit()"
   ]
  },
  {
   "cell_type": "code",
   "execution_count": 108,
   "metadata": {},
   "outputs": [
    {
     "name": "stdout",
     "output_type": "stream",
     "text": [
      "                            OLS Regression Results                            \n",
      "==============================================================================\n",
      "Dep. Variable:           sepal_length   R-squared:                       0.862\n",
      "Model:                            OLS   Adj. R-squared:                  0.858\n",
      "Method:                 Least Squares   F-statistic:                     226.8\n",
      "Date:                Tue, 26 Oct 2021   Prob (F-statistic):           2.51e-61\n",
      "Time:                        18:49:58   Log-Likelihood:                -35.397\n",
      "No. Observations:                 150   AIC:                             80.79\n",
      "Df Residuals:                     145   BIC:                             95.85\n",
      "Df Model:                           4                                         \n",
      "Covariance Type:            nonrobust                                         \n",
      "================================================================================\n",
      "                   coef    std err          t      P>|t|      [0.025      0.975]\n",
      "--------------------------------------------------------------------------------\n",
      "const            1.8512      0.248      7.451      0.000       1.360       2.342\n",
      "sepal_width      0.6253      0.067      9.288      0.000       0.492       0.758\n",
      "petal_length     0.7429      0.059     12.630      0.000       0.627       0.859\n",
      "petal_width     -0.4045      0.149     -2.721      0.007      -0.698      -0.111\n",
      "species         -0.2264      0.117     -1.941      0.054      -0.457       0.004\n",
      "==============================================================================\n",
      "Omnibus:                        0.427   Durbin-Watson:                   1.999\n",
      "Prob(Omnibus):                  0.808   Jarque-Bera (JB):                0.580\n",
      "Skew:                          -0.069   Prob(JB):                        0.748\n",
      "Kurtosis:                       2.729   Cond. No.                         56.2\n",
      "==============================================================================\n",
      "\n",
      "Warnings:\n",
      "[1] Standard Errors assume that the covariance matrix of the errors is correctly specified.\n"
     ]
    }
   ],
   "source": [
    "print(results.summary())"
   ]
  },
  {
   "cell_type": "code",
   "execution_count": 113,
   "metadata": {},
   "outputs": [
    {
     "name": "stdout",
     "output_type": "stream",
     "text": [
      "coefficient of determination: 0.8621931701975807 \n",
      "\n",
      "adjusted coefficient of determination: 0.8583916024788932 \n",
      "\n",
      "regression coefficients: const           1.851198\n",
      "sepal_width     0.625279\n",
      "petal_length    0.742924\n",
      "petal_width    -0.404479\n",
      "species        -0.226356\n",
      "dtype: float64 \n",
      "\n"
     ]
    }
   ],
   "source": [
    "print('coefficient of determination:', results.rsquared, \"\\n\")\n",
    "print('adjusted coefficient of determination:', results.rsquared_adj, \"\\n\")\n",
    "print('regression coefficients:', results.params, \"\\n\")"
   ]
  },
  {
   "cell_type": "code",
   "execution_count": 115,
   "metadata": {
    "scrolled": true
   },
   "outputs": [
    {
     "name": "stdout",
     "output_type": "stream",
     "text": [
      "predicted response:\n",
      "0      4.998873\n",
      "1      4.686233\n",
      "2      4.736997\n",
      "3      4.823054\n",
      "4      5.061401\n",
      "         ...   \n",
      "145    6.207229\n",
      "146    5.907796\n",
      "147    6.328572\n",
      "148    6.605925\n",
      "149    6.335176\n",
      "Length: 150, dtype: float64\n"
     ]
    }
   ],
   "source": [
    "print('predicted response:', results.predict(x), sep='\\n')\n",
    "# print('predicted response:', results.fittedvalues, sep='\\n')"
   ]
  },
  {
   "cell_type": "markdown",
   "metadata": {},
   "source": [
    "## How to read  OLS Regression Results  "
   ]
  },
  {
   "cell_type": "markdown",
   "metadata": {},
   "source": [
    "- OLS : Ordinary Least Squares (== least squares approximation, 최소 자승법)\n",
    "- No. Observations: Number of observations (총 표본 수)\n",
    "- Df Residuals:  DF(Degree of Freedom) 전체 표본 수에서 측정되는 변수들(종속변수 및 독립변수)의 개수를 빼서 구함\n",
    "- Df Model: 독립변수의 개수이다\n",
    "- R squared: R의 제곱이라는 뜻이고 결정계수를 의미 (해당 회귀모델이 설명할 수 있는 데이터의 비율, 회귀식의 설명력)\n",
    "- F-statistics: F통계량을 뜻한다. F통계량은 MSR/MSE로 구할 수 있다\n",
    "- Prob: F통계량에 해당하는 P-value를 의미\n",
    "- coef:  coefficient는 회귀식의 절편 값\n",
    "- Standard Error : standard deviation of an estimated coefficient\n",
    "    - The smaller the SE, the more precise is our estimate of the coefficient\n",
    "- t-Statistic : ratio of the estimated coefficient to its standard error\n",
    "- p-Values and Significance Tests :\n",
    "    -  우리가 얻은 검정 통계량보다 크거나 같은 값을 얻을 수 있을 확률"
   ]
  },
  {
   "cell_type": "code",
   "execution_count": 118,
   "metadata": {
    "scrolled": false
   },
   "outputs": [
    {
     "name": "stdout",
     "output_type": "stream",
     "text": [
      "                            OLS Regression Results                            \n",
      "==============================================================================\n",
      "Dep. Variable:           sepal_length   R-squared:                       0.862\n",
      "Model:                            OLS   Adj. R-squared:                  0.858\n",
      "Method:                 Least Squares   F-statistic:                     226.8\n",
      "Date:                Tue, 26 Oct 2021   Prob (F-statistic):           2.51e-61\n",
      "Time:                        19:36:12   Log-Likelihood:                -35.397\n",
      "No. Observations:                 150   AIC:                             80.79\n",
      "Df Residuals:                     145   BIC:                             95.85\n",
      "Df Model:                           4                                         \n",
      "Covariance Type:            nonrobust                                         \n",
      "================================================================================\n",
      "                   coef    std err          t      P>|t|      [0.025      0.975]\n",
      "--------------------------------------------------------------------------------\n",
      "const            1.8512      0.248      7.451      0.000       1.360       2.342\n",
      "sepal_width      0.6253      0.067      9.288      0.000       0.492       0.758\n",
      "petal_length     0.7429      0.059     12.630      0.000       0.627       0.859\n",
      "petal_width     -0.4045      0.149     -2.721      0.007      -0.698      -0.111\n",
      "species         -0.2264      0.117     -1.941      0.054      -0.457       0.004\n",
      "==============================================================================\n",
      "Omnibus:                        0.427   Durbin-Watson:                   1.999\n",
      "Prob(Omnibus):                  0.808   Jarque-Bera (JB):                0.580\n",
      "Skew:                          -0.069   Prob(JB):                        0.748\n",
      "Kurtosis:                       2.729   Cond. No.                         56.2\n",
      "==============================================================================\n",
      "\n",
      "Warnings:\n",
      "[1] Standard Errors assume that the covariance matrix of the errors is correctly specified.\n"
     ]
    }
   ],
   "source": [
    "print(results.summary())"
   ]
  },
  {
   "cell_type": "markdown",
   "metadata": {},
   "source": [
    "### remember that you want to calculate 𝑏₀, 𝑏₁, and 𝑏₂, which minimize SSR. These are your unknowns!"
   ]
  },
  {
   "cell_type": "markdown",
   "metadata": {},
   "source": [
    "## Logistic Regression"
   ]
  },
  {
   "cell_type": "markdown",
   "metadata": {},
   "source": [
    "## Decision Tree"
   ]
  },
  {
   "cell_type": "markdown",
   "metadata": {},
   "source": [
    "## Navie Bayes Algorithms"
   ]
  },
  {
   "cell_type": "markdown",
   "metadata": {},
   "source": [
    "## Artificial Neural Network Algorithms"
   ]
  },
  {
   "cell_type": "code",
   "execution_count": null,
   "metadata": {},
   "outputs": [],
   "source": []
  }
 ],
 "metadata": {
  "kernelspec": {
   "display_name": "Python 3",
   "language": "python",
   "name": "python3"
  },
  "language_info": {
   "codemirror_mode": {
    "name": "ipython",
    "version": 3
   },
   "file_extension": ".py",
   "mimetype": "text/x-python",
   "name": "python",
   "nbconvert_exporter": "python",
   "pygments_lexer": "ipython3",
   "version": "3.8.3"
  }
 },
 "nbformat": 4,
 "nbformat_minor": 4
}
